{
 "cells": [
  {
   "cell_type": "code",
   "execution_count": 1,
   "metadata": {},
   "outputs": [],
   "source": [
    "import os\n",
    "import torch\n",
    "import torch.nn as nn\n",
    "import torch.optim as optim\n",
    "from torch.utils.data import DataLoader\n",
    "from torchvision import datasets,transforms\n",
    "import matplotlib.pyplot as plt\n",
    "import seaborn as sns\n",
    "import pandas as pd"
   ]
  },
  {
   "cell_type": "code",
   "execution_count": 2,
   "metadata": {},
   "outputs": [],
   "source": [
    "def explore_data(data_dir):\n",
    "    classes = os.listdir(data_dir)\n",
    "    num_images = []\n",
    "    for class_name in classes:\n",
    "        class_path = os.path.join(data_dir,class_name)\n",
    "        num_images.append(len(os.listdir(class_path)))\n",
    "    data = pd.DataFrame({'class':classes,'No_of_images':num_images})\n",
    "    \n",
    "    plt.figure(figsize=(10,6))\n",
    "    sns.barplot(x = 'class',y='No_of_images',data=data)\n",
    "    plt.title('Distribution of Images in each class')\n",
    "    plt.show()"
   ]
  },
  {
   "cell_type": "code",
   "execution_count": 3,
   "metadata": {},
   "outputs": [],
   "source": [
    "class MLP(nn.Module):\n",
    "    def __init__(self,input_size,hidden_size,output_size):\n",
    "        super(MLP,self).__init__()\n",
    "        self.fc1 = nn.Linear(input_size,hidden_size)\n",
    "        self.relu = nn.ReLU()\n",
    "        self.fc2 = nn.Linear(hidden_size,output_size)\n",
    "    def forward(self,x):\n",
    "        x = self.fc1(x)\n",
    "        x = self.relu(x)\n",
    "        x = self.fc2(x)\n",
    "        return x"
   ]
  },
  {
   "cell_type": "code",
   "execution_count": 4,
   "metadata": {},
   "outputs": [
    {
     "data": {
      "image/png": "[encoded data removed]",
      "text/plain": [
       "<Figure size 1000x600 with 1 Axes>"
      ]
     },
     "metadata": {},
     "output_type": "display_data"
    }
   ],
   "source": [
    "transform = transforms.Compose([transforms.Resize((64,64)),transforms.ToTensor()])\n",
    "dataset_path = \"vehicle\"\n",
    "explore_data(dataset_path)\n",
    "vehicle_dataset = datasets.ImageFolder(root=dataset_path,transform=transform)"
   ]
  },
  {
   "cell_type": "code",
   "execution_count": 5,
   "metadata": {},
   "outputs": [],
   "source": [
    "train_size = int(0.8*len(vehicle_dataset))\n",
    "test_size = len(vehicle_dataset) - train_size\n",
    "train_dataset,test_dataset = torch.utils.data.random_split(vehicle_dataset,[train_size,test_size])\n",
    "train_loader = DataLoader(train_dataset,batch_size=64,shuffle=True)\n",
    "test_loader = DataLoader(test_dataset,batch_size=64,shuffle=False)"
   ]
  },
  {
   "cell_type": "code",
   "execution_count": 6,
   "metadata": {},
   "outputs": [],
   "source": [
    "input_size = 64 * 64 * 3\n",
    "hidden_size = 128\n",
    "output_size = len(vehicle_dataset.classes)"
   ]
  },
  {
   "cell_type": "code",
   "execution_count": 7,
   "metadata": {},
   "outputs": [],
   "source": [
    "model = MLP(input_size,hidden_size,output_size)\n",
    "criterion = nn.CrossEntropyLoss()\n",
    "optimizer = optim.SGD(model.parameters(),lr=0.01)"
   ]
  },
  {
   "cell_type": "code",
   "execution_count": 8,
   "metadata": {},
   "outputs": [
    {
     "name": "stdout",
     "output_type": "stream",
     "text": [
      "Epoch1/10,Loss:0.0733935515085856\n",
      "Epoch1/10,Loss:0.14532057444254556\n",
      "Epoch1/10,Loss:0.21745469570159912\n",
      "Epoch1/10,Loss:0.28636190891265867\n",
      "Epoch1/10,Loss:0.35908934275309246\n",
      "Epoch1/10,Loss:0.43210602601369225\n",
      "Epoch1/10,Loss:0.5072197516759237\n",
      "Epoch1/10,Loss:0.5793566226959228\n",
      "Epoch1/10,Loss:0.6491135597229004\n",
      "Epoch1/10,Loss:0.7203287283579508\n",
      "Epoch1/10,Loss:0.7897301435470581\n",
      "Epoch1/10,Loss:0.8572961648305257\n",
      "Epoch1/10,Loss:0.9282444079717\n",
      "Epoch1/10,Loss:0.9968947251637776\n",
      "Epoch1/10,Loss:1.0634668628374735\n",
      "Epoch2/10,Loss:0.06376689672470093\n",
      "Epoch2/10,Loss:0.12712880373001098\n",
      "Epoch2/10,Loss:0.19578287998835245\n",
      "Epoch2/10,Loss:0.2578882336616516\n",
      "Epoch2/10,Loss:0.32271724144617714\n",
      "Epoch2/10,Loss:0.38489356835683186\n",
      "Epoch2/10,Loss:0.44045335054397583\n",
      "Epoch2/10,Loss:0.5045152068138122\n",
      "Epoch2/10,Loss:0.5722393790880839\n",
      "Epoch2/10,Loss:0.6410422682762146\n",
      "Epoch2/10,Loss:0.7135664979616801\n",
      "Epoch2/10,Loss:0.7888794779777527\n",
      "Epoch2/10,Loss:0.851875102519989\n",
      "Epoch2/10,Loss:0.913161551952362\n",
      "Epoch2/10,Loss:0.9819258014361064\n",
      "Epoch3/10,Loss:0.059054458141326906\n",
      "Epoch3/10,Loss:0.11646337906519572\n",
      "Epoch3/10,Loss:0.17804526487986247\n",
      "Epoch3/10,Loss:0.24671554565429688\n",
      "Epoch3/10,Loss:0.30694967110951743\n",
      "Epoch3/10,Loss:0.36254936854044595\n",
      "Epoch3/10,Loss:0.419960876305898\n",
      "Epoch3/10,Loss:0.47635478973388673\n",
      "Epoch3/10,Loss:0.535118047396342\n",
      "Epoch3/10,Loss:0.5892250180244446\n",
      "Epoch3/10,Loss:0.6385809222857157\n",
      "Epoch3/10,Loss:0.6998111685117085\n",
      "Epoch3/10,Loss:0.758914037545522\n",
      "Epoch3/10,Loss:0.8139935215314229\n",
      "Epoch3/10,Loss:0.8758861064910889\n",
      "Epoch4/10,Loss:0.051545369625091556\n",
      "Epoch4/10,Loss:0.10218954086303711\n",
      "Epoch4/10,Loss:0.15308587948481242\n",
      "Epoch4/10,Loss:0.2085450251897176\n",
      "Epoch4/10,Loss:0.2559305508931478\n",
      "Epoch4/10,Loss:0.3131894826889038\n",
      "Epoch4/10,Loss:0.36731327772140504\n",
      "Epoch4/10,Loss:0.42472450335820516\n",
      "Epoch4/10,Loss:0.4790404915809631\n",
      "Epoch4/10,Loss:0.5375146110852559\n",
      "Epoch4/10,Loss:0.5936397751172383\n",
      "Epoch4/10,Loss:0.6593133807182312\n",
      "Epoch4/10,Loss:0.7237560788790385\n",
      "Epoch4/10,Loss:0.7876394152641296\n",
      "Epoch4/10,Loss:0.8441992839177449\n",
      "Epoch5/10,Loss:0.05429853995641073\n",
      "Epoch5/10,Loss:0.10500926574071248\n",
      "Epoch5/10,Loss:0.15793898502985637\n",
      "Epoch5/10,Loss:0.21808351278305055\n",
      "Epoch5/10,Loss:0.27287143071492515\n",
      "Epoch5/10,Loss:0.32382113138834634\n",
      "Epoch5/10,Loss:0.3700830658276876\n",
      "Epoch5/10,Loss:0.4167795856793722\n",
      "Epoch5/10,Loss:0.4604756315549215\n",
      "Epoch5/10,Loss:0.5120714902877808\n",
      "Epoch5/10,Loss:0.5675143162409465\n",
      "Epoch5/10,Loss:0.6122395515441894\n",
      "Epoch5/10,Loss:0.6618221203486124\n",
      "Epoch5/10,Loss:0.7099656979242961\n",
      "Epoch5/10,Loss:0.7595834930737814\n",
      "Epoch6/10,Loss:0.054378608862559\n",
      "Epoch6/10,Loss:0.10681891441345215\n",
      "Epoch6/10,Loss:0.15736931165059406\n",
      "Epoch6/10,Loss:0.20421874125798542\n",
      "Epoch6/10,Loss:0.2529076417287191\n",
      "Epoch6/10,Loss:0.30333942572275796\n",
      "Epoch6/10,Loss:0.3518804669380188\n",
      "Epoch6/10,Loss:0.398246705532074\n",
      "Epoch6/10,Loss:0.4366372426350911\n",
      "Epoch6/10,Loss:0.4806069294611613\n",
      "Epoch6/10,Loss:0.5310097575187683\n",
      "Epoch6/10,Loss:0.581243884563446\n",
      "Epoch6/10,Loss:0.6312519470850627\n",
      "Epoch6/10,Loss:0.6800907572110494\n",
      "Epoch6/10,Loss:0.7243160009384155\n",
      "Epoch7/10,Loss:0.044579644997914634\n",
      "Epoch7/10,Loss:0.09278250535329183\n",
      "Epoch7/10,Loss:0.1426820397377014\n",
      "Epoch7/10,Loss:0.19530979792277017\n",
      "Epoch7/10,Loss:0.24263707796732584\n",
      "Epoch7/10,Loss:0.2852571964263916\n",
      "Epoch7/10,Loss:0.33416978518168133\n",
      "Epoch7/10,Loss:0.3757011691729228\n",
      "Epoch7/10,Loss:0.41543580691019694\n",
      "Epoch7/10,Loss:0.4565222899119059\n",
      "Epoch7/10,Loss:0.5002081553141277\n",
      "Epoch7/10,Loss:0.5488733410835266\n",
      "Epoch7/10,Loss:0.5977143088976542\n",
      "Epoch7/10,Loss:0.6465834220250447\n",
      "Epoch7/10,Loss:0.6934042890866597\n",
      "Epoch8/10,Loss:0.047800668080647785\n",
      "Epoch8/10,Loss:0.10322178602218628\n",
      "Epoch8/10,Loss:0.16956361929575603\n",
      "Epoch8/10,Loss:0.24340225060780843\n",
      "Epoch8/10,Loss:0.31173865795135497\n",
      "Epoch8/10,Loss:0.36090723673502606\n",
      "Epoch8/10,Loss:0.40847654740015665\n",
      "Epoch8/10,Loss:0.45757738351821897\n",
      "Epoch8/10,Loss:0.501887571811676\n",
      "Epoch8/10,Loss:0.545936652024587\n",
      "Epoch8/10,Loss:0.58421364625295\n",
      "Epoch8/10,Loss:0.6244598825772604\n",
      "Epoch8/10,Loss:0.6739434878031413\n",
      "Epoch8/10,Loss:0.7314288934071859\n",
      "Epoch8/10,Loss:0.7757584452629089\n",
      "Epoch9/10,Loss:0.037435678641001384\n",
      "Epoch9/10,Loss:0.07946499983469645\n",
      "Epoch9/10,Loss:0.12101182142893473\n",
      "Epoch9/10,Loss:0.15818891525268555\n",
      "Epoch9/10,Loss:0.19681893984476725\n",
      "Epoch9/10,Loss:0.24260733524958292\n",
      "Epoch9/10,Loss:0.2871841629346212\n",
      "Epoch9/10,Loss:0.343675442536672\n",
      "Epoch9/10,Loss:0.38607996304829917\n",
      "Epoch9/10,Loss:0.43018393516540526\n",
      "Epoch9/10,Loss:0.4737808664639791\n",
      "Epoch9/10,Loss:0.5254297773043315\n",
      "Epoch9/10,Loss:0.5730502367019653\n",
      "Epoch9/10,Loss:0.6098488052686055\n",
      "Epoch9/10,Loss:0.6496816873550415\n",
      "Epoch10/10,Loss:0.04074386358261108\n",
      "Epoch10/10,Loss:0.08092346588770548\n",
      "Epoch10/10,Loss:0.11644608974456787\n",
      "Epoch10/10,Loss:0.15040284792582195\n",
      "Epoch10/10,Loss:0.20198974609375\n",
      "Epoch10/10,Loss:0.2422290841738383\n",
      "Epoch10/10,Loss:0.2866720716158549\n",
      "Epoch10/10,Loss:0.32874131202697754\n",
      "Epoch10/10,Loss:0.367305056254069\n",
      "Epoch10/10,Loss:0.40811907847722373\n",
      "Epoch10/10,Loss:0.4480164448420207\n",
      "Epoch10/10,Loss:0.48728787899017334\n",
      "Epoch10/10,Loss:0.5264472723007202\n",
      "Epoch10/10,Loss:0.5663869420687357\n",
      "Epoch10/10,Loss:0.6070365230242412\n"
     ]
    }
   ],
   "source": [
    "epochs = 10\n",
    "for epoch in range(epochs):\n",
    "    model.train()\n",
    "    running_loss = 0.0\n",
    "    for images,labels in train_loader:\n",
    "        images = images.view(-1,input_size)\n",
    "        optimizer.zero_grad()\n",
    "        outputs = model(images)\n",
    "        loss = criterion(outputs,labels)\n",
    "        loss.backward()\n",
    "        optimizer.step()\n",
    "        running_loss += loss.item()\n",
    "        print(f'Epoch{epoch+1}/{epochs},Loss:{running_loss/len(train_loader)}')"
   ]
  },
  {
   "cell_type": "code",
   "execution_count": 9,
   "metadata": {},
   "outputs": [],
   "source": [
    "model.eval()\n",
    "correct = 0\n",
    "total = 0"
   ]
  },
  {
   "cell_type": "code",
   "execution_count": 11,
   "metadata": {},
   "outputs": [
    {
     "name": "stdout",
     "output_type": "stream",
     "text": [
      "Test Accuracy: 0.5394736842105263\n"
     ]
    }
   ],
   "source": [
    "with torch.no_grad():\n",
    "    for images,labels in test_loader:\n",
    "        images = images.view(-1,input_size)\n",
    "        outputs = model(images)\n",
    "        _,predicted = torch.max(outputs.data,1)\n",
    "        total += labels.size(0)\n",
    "        correct += (predicted==labels).sum().item()\n",
    "accuracy = correct/total\n",
    "print(f'Test Accuracy: {accuracy}')"
   ]
  },
  {
   "cell_type": "code",
   "execution_count": null,
   "metadata": {},
   "outputs": [],
   "source": [
    "torch.save(model.state_dict(),'Vehicle_classification_model.pth')"
   ]
  }
 ],
 "metadata": {
  "kernelspec": {
   "display_name": "Python 3",
   "language": "python",
   "name": "python3"
  },
  "language_info": {
   "codemirror_mode": {
    "name": "ipython",
    "version": 3
   },
   "file_extension": ".py",
   "mimetype": "text/x-python",
   "name": "python",
   "nbconvert_exporter": "python",
   "pygments_lexer": "ipython3",
   "version": "3.10.0 (tags/v3.10.0:b494f59, Oct  4 2021, 19:00:18) [MSC v.1929 64 bit (AMD64)]"
  },
  "orig_nbformat": 4,
  "vscode": {
   "interpreter": {
    "hash": "26de051ba29f2982a8de78e945f0abaf191376122a1563185a90213a26c5da77"
   }
  }
 },
 "nbformat": 4,
 "nbformat_minor": 2
}
