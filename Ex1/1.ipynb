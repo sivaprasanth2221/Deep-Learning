{
 "cells": [
  {
   "cell_type": "code",
   "execution_count": 1,
   "metadata": {},
   "outputs": [],
   "source": [
    "import torch"
   ]
  },
  {
   "cell_type": "code",
   "execution_count": 2,
   "metadata": {},
   "outputs": [],
   "source": [
    "def inverse_2x2(matrix):\n",
    "    det = matrix[0,0] * matrix[1,1] - matrix[0,1] * matrix[1,0]\n",
    "    if det ==0:\n",
    "        raise ValueError(\"Matrix is not invertible\")\n",
    "    inverse_det = 1.0/det\n",
    "    inverse_matrix = torch.tensor([[matrix[1,1],-matrix[0,1]],[-matrix[1,0],matrix[0,0]]])\n",
    "    inverse_matrix *= inverse_det\n",
    "    return inverse_matrix"
   ]
  },
  {
   "cell_type": "code",
   "execution_count": 3,
   "metadata": {},
   "outputs": [],
   "source": [
    "a = float(input(\"Enter a:\"))\n",
    "b = float(input(\"Enter b:\"))\n",
    "c = float(input(\"Enter c:\"))\n",
    "d = float(input(\"Enter d:\"))"
   ]
  },
  {
   "cell_type": "code",
   "execution_count": 4,
   "metadata": {},
   "outputs": [],
   "source": [
    "matrix_A = torch.tensor([[a,b],[c,d]])"
   ]
  },
  {
   "cell_type": "code",
   "execution_count": 5,
   "metadata": {},
   "outputs": [
    {
     "name": "stdout",
     "output_type": "stream",
     "text": [
      "Original Matrix A:\n",
      "tensor([[1., 2.],\n",
      "        [3., 4.]])\n",
      "\n",
      "Inverse of Matrix A:\n",
      "tensor([[-2.0000,  1.0000],\n",
      "        [ 1.5000, -0.5000]])\n"
     ]
    }
   ],
   "source": [
    "try:\n",
    "    inverse_A = inverse_2x2(matrix_A)\n",
    "    print(\"Original Matrix A:\")\n",
    "    print(matrix_A)\n",
    "    print(\"\\nInverse of Matrix A:\")\n",
    "    print(inverse_A)\n",
    "except ValueError as e:\n",
    "    print(\"Error:\",e)"
   ]
  },
  {
   "cell_type": "code",
   "execution_count": 13,
   "metadata": {},
   "outputs": [],
   "source": [
    "def mat_mul(mat_a,mat_b):\n",
    "    l = mat_a[0,0] * mat_b[0,0] + mat_a[0,1] * mat_b[1,0]\n",
    "    m = mat_a[0,0] * mat_b[0,1] + mat_a[0,1] * mat_b[1,1]\n",
    "    n = mat_a[1,0] * mat_b[0,0] + mat_a[1,1] * mat_b[1,0]\n",
    "    o = mat_a[1,0] * mat_b[0,1] + mat_a[1,1] * mat_b[1,1]\n",
    "    res_mat = torch.tensor([[l,m],[n,o]])\n",
    "    return res_mat"
   ]
  },
  {
   "cell_type": "code",
   "execution_count": 16,
   "metadata": {},
   "outputs": [
    {
     "name": "stdout",
     "output_type": "stream",
     "text": [
      "Matrix Multiplication:\n",
      "tensor([[19., 22.],\n",
      "        [43., 50.]])\n"
     ]
    }
   ],
   "source": [
    "matrix_B = torch.tensor([[5,6],[7,8]],dtype=torch.float32)\n",
    "res_matrix = mat_mul(matrix_A,matrix_B)\n",
    "print(\"Matrix Multiplication:\")\n",
    "print(res_matrix)"
   ]
  }
 ],
 "metadata": {
  "kernelspec": {
   "display_name": "Python 3",
   "language": "python",
   "name": "python3"
  },
  "language_info": {
   "codemirror_mode": {
    "name": "ipython",
    "version": 3
   },
   "file_extension": ".py",
   "mimetype": "text/x-python",
   "name": "python",
   "nbconvert_exporter": "python",
   "pygments_lexer": "ipython3",
   "version": "3.10.0 (tags/v3.10.0:b494f59, Oct  4 2021, 19:00:18) [MSC v.1929 64 bit (AMD64)]"
  },
  "orig_nbformat": 4,
  "vscode": {
   "interpreter": {
    "hash": "26de051ba29f2982a8de78e945f0abaf191376122a1563185a90213a26c5da77"
   }
  }
 },
 "nbformat": 4,
 "nbformat_minor": 2
}
