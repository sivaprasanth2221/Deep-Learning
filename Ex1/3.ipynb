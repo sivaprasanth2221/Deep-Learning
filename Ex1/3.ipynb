{
 "cells": [
  {
   "cell_type": "code",
   "execution_count": 2,
   "metadata": {},
   "outputs": [],
   "source": [
    "import torch"
   ]
  },
  {
   "cell_type": "code",
   "execution_count": 3,
   "metadata": {},
   "outputs": [],
   "source": [
    "tensor1 = torch.tensor([[1,2],[3,4]])\n",
    "tensor2 = torch.tensor([[6,7],[8,9]])"
   ]
  },
  {
   "cell_type": "code",
   "execution_count": 4,
   "metadata": {},
   "outputs": [
    {
     "name": "stdout",
     "output_type": "stream",
     "text": [
      "Tensor Addition:\n",
      "tensor([[ 7,  9],\n",
      "        [11, 13]])\n"
     ]
    }
   ],
   "source": [
    "res_add = torch.add(tensor1,tensor2)\n",
    "\n",
    "print(\"Tensor Addition:\")\n",
    "print(res_add)"
   ]
  },
  {
   "cell_type": "code",
   "execution_count": 5,
   "metadata": {},
   "outputs": [
    {
     "name": "stdout",
     "output_type": "stream",
     "text": [
      "Element-wise Multiplication:\n",
      "tensor([[ 6, 14],\n",
      "        [24, 36]])\n"
     ]
    }
   ],
   "source": [
    "res_mul = torch.mul(tensor1,tensor2)\n",
    "\n",
    "print(\"Element-wise Multiplication:\")\n",
    "print(res_mul)"
   ]
  },
  {
   "cell_type": "code",
   "execution_count": 6,
   "metadata": {},
   "outputs": [
    {
     "name": "stdout",
     "output_type": "stream",
     "text": [
      "Matrix Multiplication:\n",
      "tensor([[22, 25],\n",
      "        [50, 57]])\n"
     ]
    }
   ],
   "source": [
    "res_matmul = torch.mm(tensor1,tensor2)\n",
    "\n",
    "print(\"Matrix Multiplication:\")\n",
    "print(res_matmul)"
   ]
  },
  {
   "cell_type": "code",
   "execution_count": 7,
   "metadata": {},
   "outputs": [
    {
     "name": "stdout",
     "output_type": "stream",
     "text": [
      "Transpose Operation:\n",
      "tensor([[1, 3],\n",
      "        [2, 4]])\n"
     ]
    }
   ],
   "source": [
    "res_transpose = torch.transpose(tensor1,0,1)\n",
    "\n",
    "print(\"Transpose Operation:\")\n",
    "print(res_transpose)"
   ]
  },
  {
   "cell_type": "code",
   "execution_count": 8,
   "metadata": {},
   "outputs": [
    {
     "name": "stdout",
     "output_type": "stream",
     "text": [
      "Element-wise Square Root:\n",
      "tensor([[2., 3.],\n",
      "        [4., 5.]])\n"
     ]
    }
   ],
   "source": [
    "tensor = torch.tensor([[4,9],[16,25]],dtype=torch.float32)\n",
    "\n",
    "res_sqrt = torch.sqrt(tensor)\n",
    "\n",
    "print(\"Element-wise Square Root:\")\n",
    "print(res_sqrt)"
   ]
  },
  {
   "cell_type": "code",
   "execution_count": 9,
   "metadata": {},
   "outputs": [
    {
     "name": "stdout",
     "output_type": "stream",
     "text": [
      "Narrow:\n",
      "tensor([[ 9.],\n",
      "        [25.]])\n"
     ]
    }
   ],
   "source": [
    "res_narrow = torch.narrow(tensor,1,1,1)\n",
    "\n",
    "print(\"Narrow:\")\n",
    "print(res_narrow)"
   ]
  },
  {
   "cell_type": "code",
   "execution_count": 10,
   "metadata": {},
   "outputs": [
    {
     "name": "stdout",
     "output_type": "stream",
     "text": [
      "List:\n",
      "[[1, 2], [3, 4]]\n"
     ]
    }
   ],
   "source": [
    "res_list = tensor1.tolist()\n",
    "\n",
    "print(\"List:\")\n",
    "print(res_list)"
   ]
  },
  {
   "cell_type": "code",
   "execution_count": 11,
   "metadata": {},
   "outputs": [
    {
     "name": "stdout",
     "output_type": "stream",
     "text": [
      "Permutate:\n",
      "tensor([[[1],\n",
      "         [4]],\n",
      "\n",
      "        [[2],\n",
      "         [5]],\n",
      "\n",
      "        [[3],\n",
      "         [6]]])\n"
     ]
    }
   ],
   "source": [
    "tensor3 =torch.tensor([[[1,2,3],[4,5,6]]])\n",
    "res_permutate = tensor3.permute(2,1,0)\n",
    "\n",
    "print(\"Permutate:\")\n",
    "print(res_permutate)"
   ]
  },
  {
   "cell_type": "code",
   "execution_count": 13,
   "metadata": {},
   "outputs": [
    {
     "name": "stdout",
     "output_type": "stream",
     "text": [
      "Sine:\n",
      "tensor([[-0.7568,  0.4121],\n",
      "        [-0.2879, -0.1324]])\n"
     ]
    }
   ],
   "source": [
    "res_sine = torch.sin(tensor)\n",
    "print(\"Sine:\")\n",
    "print(res_sine)"
   ]
  },
  {
   "cell_type": "code",
   "execution_count": 14,
   "metadata": {},
   "outputs": [
    {
     "name": "stdout",
     "output_type": "stream",
     "text": [
      "Cosine:\n",
      "tensor([[-0.6536, -0.9111],\n",
      "        [-0.9577,  0.9912]])\n"
     ]
    }
   ],
   "source": [
    "res_cosine = torch.cos(tensor)\n",
    "print(\"Cosine:\")\n",
    "print(res_cosine)"
   ]
  },
  {
   "cell_type": "code",
   "execution_count": 15,
   "metadata": {},
   "outputs": [
    {
     "name": "stdout",
     "output_type": "stream",
     "text": [
      "Tangent:\n",
      "tensor([[ 1.1578, -0.4523],\n",
      "        [ 0.3006, -0.1335]])\n"
     ]
    }
   ],
   "source": [
    "res_tan = torch.tan(tensor)\n",
    "print(\"Tangent:\")\n",
    "print(res_tan)"
   ]
  }
 ],
 "metadata": {
  "kernelspec": {
   "display_name": "Python 3",
   "language": "python",
   "name": "python3"
  },
  "language_info": {
   "codemirror_mode": {
    "name": "ipython",
    "version": 3
   },
   "file_extension": ".py",
   "mimetype": "text/x-python",
   "name": "python",
   "nbconvert_exporter": "python",
   "pygments_lexer": "ipython3",
   "version": "3.10.0"
  },
  "orig_nbformat": 4,
  "vscode": {
   "interpreter": {
    "hash": "26de051ba29f2982a8de78e945f0abaf191376122a1563185a90213a26c5da77"
   }
  }
 },
 "nbformat": 4,
 "nbformat_minor": 2
}
