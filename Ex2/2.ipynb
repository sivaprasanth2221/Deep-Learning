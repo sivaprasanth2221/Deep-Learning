{
 "cells": [
  {
   "cell_type": "code",
   "execution_count": null,
   "metadata": {},
   "outputs": [],
   "source": [
    "import os\n",
    "from PIL import Image\n",
    "from torch.utils.data import Dataset\n",
    "from torchvision import transforms\n",
    "from torch.utils.data import DataLoader"
   ]
  },
  {
   "cell_type": "code",
   "execution_count": null,
   "metadata": {},
   "outputs": [],
   "source": [
    "class CustomLungDataset(Dataset):\n",
    "    def __init__(self,root,transform=None):\n",
    "        self.root = root\n",
    "        self.transform = transform\n",
    "        self.classes=sorted(os.listdir(root))\n",
    "        self.class_to_idx = {cls:i for i,cls in enumerate(self.classes)}\n",
    "        self.images = self.load_images()\n",
    "    \n",
    "    def load_images(self):\n",
    "        images = []\n",
    "        for cls in self.classes:\n",
    "            cls_path = os.path.join(self.root,cls)\n",
    "            cls_idx = self.class_to_idx[cls]\n",
    "            for file in os.listdir(cls_path):\n",
    "                img_path = os.path.join(cls_path,file)\n",
    "                images.append((img_path,cls_idx))\n",
    "        return images\n",
    "    \n",
    "    def __len__(self):\n",
    "        return len(self.images)\n",
    "    \n",
    "    def __getitem__(self,idx):\n",
    "        img_path,label = self.images[idx]\n",
    "        image = Image.open(img_path).convert('RGB')\n",
    "        if self.transform:\n",
    "            image = self.transform(image)\n",
    "        return image,label"
   ]
  },
  {
   "cell_type": "code",
   "execution_count": null,
   "metadata": {},
   "outputs": [],
   "source": [
    "data_transform = transforms.Compose([transforms.Resize((224,224)),transforms.ToTensor()])"
   ]
  },
  {
   "cell_type": "code",
   "execution_count": null,
   "metadata": {},
   "outputs": [],
   "source": [
    "lung_dataset = CustomLungDataset(root='Data\\Train',transform=data_transform)"
   ]
  },
  {
   "cell_type": "code",
   "execution_count": null,
   "metadata": {},
   "outputs": [],
   "source": [
    "lung_dataloader = DataLoader(lung_dataset,batch_size=32,shuffle=True)"
   ]
  },
  {
   "cell_type": "code",
   "execution_count": null,
   "metadata": {},
   "outputs": [],
   "source": [
    "print(\"No of Classes:\",len(lung_dataset.classes))\n",
    "print(\"Class Name:\", lung_dataset.classes)\n",
    "print(\"No of images:\",lung_dataset)"
   ]
  },
  {
   "cell_type": "code",
   "execution_count": null,
   "metadata": {},
   "outputs": [],
   "source": [
    "sample_img,sample_label = lung_dataset[0]\n",
    "print(\"Sample Image Shape:\",sample_img.shape,\"Label:\",sample_label)"
   ]
  }
 ],
 "metadata": {
  "kernelspec": {
   "display_name": "Python 3",
   "language": "python",
   "name": "python3"
  },
  "language_info": {
   "name": "python",
   "version": "3.10.0 (tags/v3.10.0:b494f59, Oct  4 2021, 19:00:18) [MSC v.1929 64 bit (AMD64)]"
  },
  "orig_nbformat": 4,
  "vscode": {
   "interpreter": {
    "hash": "26de051ba29f2982a8de78e945f0abaf191376122a1563185a90213a26c5da77"
   }
  }
 },
 "nbformat": 4,
 "nbformat_minor": 2
}
