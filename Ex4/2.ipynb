{
 "cells": [
  {
   "cell_type": "code",
   "execution_count": null,
   "metadata": {},
   "outputs": [],
   "source": [
    "import torch\n",
    "\n",
    "x = torch.tensor([[0, 1, 1, 0], [1, 0, 0, 1], [0, 0, 1, 1], [0, 1, 0, 1]], dtype=torch.float)\n",
    "weight = torch.tensor([[0.6, 0.5, 0.9, 0.25], [0.9, 0.6, 0.8, 0.36]], dtype=torch.float)\n",
    "bias = 0.4\n",
    "alpha = 0.25\n",
    "\n",
    "\n",
    "def check(y):\n",
    "    if y[0] < y[1]:\n",
    "        return 0\n",
    "    else:\n",
    "        return 1\n",
    "\n",
    "\n",
    "for i in range(4):\n",
    "    inp = x[i]\n",
    "    y = torch.zeros(2)\n",
    "    for j in range(2):\n",
    "        w = weight[j]\n",
    "        y[j] = torch.sum((inp - w) ** 2) + bias\n",
    "    \n",
    "    res = check(y)\n",
    "    weight[res] += alpha * (inp - weight[res])\n",
    "    \n",
    "    print(\"Updated Weight at iteration\", i+1, \":\", weight[res])\n"
   ]
  }
 ],
 "metadata": {
  "kernelspec": {
   "display_name": "Python 3",
   "language": "python",
   "name": "python3"
  },
  "language_info": {
   "codemirror_mode": {
    "name": "ipython",
    "version": 3
   },
   "file_extension": ".py",
   "mimetype": "text/x-python",
   "name": "python",
   "nbconvert_exporter": "python",
   "pygments_lexer": "ipython3",
   "version": "3.10.12"
  },
  "orig_nbformat": 4,
  "vscode": {
   "interpreter": {
    "hash": "26de051ba29f2982a8de78e945f0abaf191376122a1563185a90213a26c5da77"
   }
  }
 },
 "nbformat": 4,
 "nbformat_minor": 2
}
