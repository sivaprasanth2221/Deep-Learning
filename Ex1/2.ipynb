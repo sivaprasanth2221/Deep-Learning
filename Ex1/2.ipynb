{
 "cells": [
  {
   "cell_type": "code",
   "execution_count": 21,
   "metadata": {},
   "outputs": [],
   "source": [
    "import torch"
   ]
  },
  {
   "cell_type": "code",
   "execution_count": 22,
   "metadata": {},
   "outputs": [],
   "source": [
    "x = torch.tensor([2.0],requires_grad=True)\n",
    "y = torch.tensor([3.0],requires_grad=True)"
   ]
  },
  {
   "cell_type": "code",
   "execution_count": 23,
   "metadata": {},
   "outputs": [],
   "source": [
    "z = x**3 + 4*x**2*y - x*y**2 + x*y +3\n",
    "z.backward()"
   ]
  },
  {
   "cell_type": "code",
   "execution_count": 24,
   "metadata": {},
   "outputs": [],
   "source": [
    "grad_x = x.grad\n",
    "grad_y = y.grad"
   ]
  },
  {
   "cell_type": "code",
   "execution_count": 25,
   "metadata": {},
   "outputs": [
    {
     "name": "stdout",
     "output_type": "stream",
     "text": [
      "Tensor x: 2.0\n",
      "Tensor y: 3.0\n",
      "Result z: 47.0\n",
      "Gradient of x: 54.0\n",
      "Gradient of y: 6.0\n"
     ]
    }
   ],
   "source": [
    "print(\"Tensor x:\",x.item())\n",
    "print(\"Tensor y:\",y.item())\n",
    "print(\"Result z:\",z.item())\n",
    "print(\"Gradient of x:\",grad_x.item())\n",
    "print(\"Gradient of y:\",grad_y.item())"
   ]
  }
 ],
 "metadata": {
  "kernelspec": {
   "display_name": "Python 3",
   "language": "python",
   "name": "python3"
  },
  "language_info": {
   "codemirror_mode": {
    "name": "ipython",
    "version": 3
   },
   "file_extension": ".py",
   "mimetype": "text/x-python",
   "name": "python",
   "nbconvert_exporter": "python",
   "pygments_lexer": "ipython3",
   "version": "3.10.12"
  },
  "orig_nbformat": 4,
  "vscode": {
   "interpreter": {
    "hash": "26de051ba29f2982a8de78e945f0abaf191376122a1563185a90213a26c5da77"
   }
  }
 },
 "nbformat": 4,
 "nbformat_minor": 2
}
