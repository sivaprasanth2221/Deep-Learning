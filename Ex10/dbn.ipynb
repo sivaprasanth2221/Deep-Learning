{
 "cells": [
  {
   "cell_type": "code",
   "execution_count": 1,
   "metadata": {},
   "outputs": [],
   "source": [
    "import tensorflow as tf\n",
    "import numpy as np\n",
    "import pandas as pd\n",
    "from sklearn.model_selection import train_test_split\n",
    "import matplotlib.pyplot as plt"
   ]
  },
  {
   "cell_type": "code",
   "execution_count": 2,
   "metadata": {},
   "outputs": [],
   "source": [
    "column_names = ['user_id', 'item_id', 'rating', 'timestamp']\n",
    "data = pd.read_csv('/Users/sivaprasanth/Documents/DL/Ex9/ml-100k/u.data', sep='\\t', names=column_names)"
   ]
  },
  {
   "cell_type": "code",
   "execution_count": 3,
   "metadata": {},
   "outputs": [],
   "source": [
    "data['rating'] = data['rating'].apply(lambda x: 1 if x >= 3 else 0)  # Convert ratings to binary format"
   ]
  },
  {
   "cell_type": "code",
   "execution_count": 4,
   "metadata": {},
   "outputs": [],
   "source": [
    "train_data, test_data = train_test_split(data, test_size=0.2, random_state=123)"
   ]
  },
  {
   "cell_type": "code",
   "execution_count": 5,
   "metadata": {},
   "outputs": [],
   "source": [
    "train_data = train_data[['user_id', 'item_id', 'rating']].values.astype(np.float32)\n",
    "test_data = test_data[['user_id', 'item_id', 'rating']].values.astype(np.float32)\n",
    "errors = []\n",
    "epochs=10"
   ]
  },
  {
   "cell_type": "code",
   "execution_count": 6,
   "metadata": {},
   "outputs": [],
   "source": [
    "class RBM(tf.keras.layers.Layer):\n",
    "    def __init__(self, num_hidden, num_visible, **kwargs):\n",
    "        super(RBM, self).__init__(**kwargs)\n",
    "        self.num_hidden = num_hidden\n",
    "        self.num_visible = num_visible\n",
    "\n",
    "    def build(self, input_shape):\n",
    "        self.rbm_weights = self.add_weight(shape=(self.num_visible, self.num_hidden),\n",
    "                                           initializer='random_normal',\n",
    "                                           trainable=True)\n",
    "        self.visible_bias = self.add_weight(shape=(self.num_visible,),\n",
    "                                            initializer='zeros',\n",
    "                                            trainable=True)\n",
    "        self.hidden_bias = self.add_weight(shape=(self.num_hidden,),\n",
    "                                           initializer='zeros',\n",
    "                                           trainable=True)\n",
    "\n",
    "    def sample_hidden(self, visible_samples):\n",
    "        hidden_activation = tf.nn.sigmoid(tf.matmul(visible_samples, self.rbm_weights) + self.hidden_bias)\n",
    "        hidden_samples = tf.nn.relu(tf.sign(hidden_activation - tf.random.uniform(tf.shape(hidden_activation))))\n",
    "        return hidden_samples\n",
    "\n",
    "    def sample_visible(self, hidden_samples):\n",
    "        visible_activation = tf.nn.sigmoid(tf.matmul(hidden_samples, tf.transpose(self.rbm_weights)) + self.visible_bias)\n",
    "        visible_samples = tf.nn.relu(tf.sign(visible_activation - tf.random.uniform(tf.shape(visible_activation))))\n",
    "        return visible_samples\n",
    "\n",
    "    def call(self, inputs):\n",
    "        hidden_samples = self.sample_hidden(inputs)\n",
    "        reconstructed_samples = self.sample_visible(hidden_samples)\n",
    "        return reconstructed_samples"
   ]
  },
  {
   "cell_type": "code",
   "execution_count": 7,
   "metadata": {},
   "outputs": [],
   "source": [
    "class DBN(tf.keras.models.Model):\n",
    "    def __init__(self, layer_sizes):\n",
    "        super(DBN, self).__init__()\n",
    "        self.rbm_layers = [RBM(num_hidden=size, num_visible=layer_sizes[i]) for i, size in enumerate(layer_sizes[1:])]\n",
    "\n",
    "    def pretrain_rbm(self, rbm, data, epochs=epochs, batch_size=32):\n",
    "        optimizer = tf.keras.optimizers.legacy.Adam()\n",
    "        mse_loss = tf.keras.losses.MeanSquaredError()\n",
    "        \n",
    "        for epoch in range(epochs):\n",
    "            epoch_loss = 0.0\n",
    "            for batch in tf.data.Dataset.from_tensor_slices(data).batch(batch_size):\n",
    "                with tf.GradientTape() as tape:\n",
    "                    reconstructed_data = rbm(batch)\n",
    "                    loss = mse_loss(batch, reconstructed_data)\n",
    "                gradients = tape.gradient(loss, rbm.trainable_variables)\n",
    "                optimizer.apply_gradients(zip(gradients, rbm.trainable_variables))\n",
    "                epoch_loss += loss.numpy()\n",
    "            errors.append(epoch_loss)\n",
    "            print(f\"Epoch {epoch+1}, Loss: {epoch_loss}\")\n",
    "\n",
    "    def call(self, inputs):\n",
    "        x = inputs\n",
    "        for rbm in self.rbm_layers:\n",
    "            x = rbm(x)\n",
    "        return x"
   ]
  },
  {
   "cell_type": "code",
   "execution_count": 8,
   "metadata": {},
   "outputs": [
    {
     "name": "stdout",
     "output_type": "stream",
     "text": [
      "Epoch 1, Loss: 479493850.9296875\n",
      "Epoch 2, Loss: 479491787.3046875\n",
      "Epoch 3, Loss: 479491716.3984375\n",
      "Epoch 4, Loss: 479494312.6171875\n",
      "Epoch 5, Loss: 479491973.4375\n",
      "Epoch 6, Loss: 479490636.7578125\n",
      "Epoch 7, Loss: 479490762.0625\n",
      "Epoch 8, Loss: 479495335.59375\n",
      "Epoch 9, Loss: 479496593.9609375\n",
      "Epoch 10, Loss: 479491322.3046875\n"
     ]
    }
   ],
   "source": [
    "np.random.seed(123)\n",
    "dbn = DBN(layer_sizes=[train_data.shape[1], 50])\n",
    "for rbm in dbn.rbm_layers:\n",
    "    dbn.pretrain_rbm(rbm, train_data)"
   ]
  },
  {
   "cell_type": "code",
   "execution_count": 9,
   "metadata": {},
   "outputs": [
    {
     "name": "stdout",
     "output_type": "stream",
     "text": [
      "Extracted Features:\n",
      "tf.Tensor(\n",
      "[[0. 0. 1.]\n",
      " [0. 1. 1.]\n",
      " [1. 0. 0.]\n",
      " ...\n",
      " [0. 1. 1.]\n",
      " [0. 1. 0.]\n",
      " [1. 1. 0.]], shape=(80000, 3), dtype=float32)\n"
     ]
    }
   ],
   "source": [
    "extracted_features = dbn(train_data)\n",
    "print(\"Extracted Features:\")\n",
    "print(extracted_features)"
   ]
  },
  {
   "cell_type": "code",
   "execution_count": 10,
   "metadata": {},
   "outputs": [
    {
     "data": {
      "image/png": "[encoded data removed]",
      "text/plain": [
       "<Figure size 640x480 with 1 Axes>"
      ]
     },
     "metadata": {},
     "output_type": "display_data"
    }
   ],
   "source": [
    "plt.plot(range(1, epochs+1), errors, label='Training Error')\n",
    "plt.xlabel('Epochs')\n",
    "plt.ylabel('Loss')\n",
    "plt.title('Training Error over Epochs')\n",
    "plt.legend()\n",
    "plt.show()"
   ]
  },
  {
   "cell_type": "code",
   "execution_count": 11,
   "metadata": {},
   "outputs": [
    {
     "data": {
      "image/png": "[encoded data removed]",
      "text/plain": [
       "<IPython.core.display.Image object>"
      ]
     },
     "execution_count": 11,
     "metadata": {},
     "output_type": "execute_result"
    }
   ],
   "source": [
    "import pydot\n",
    "tf.keras.utils.plot_model(dbn,to_file='/Users/sivaprasanth/Documents/DL/Ex10/img.png')"
   ]
  },
  {
   "cell_type": "code",
   "execution_count": 12,
   "metadata": {},
   "outputs": [
    {
     "name": "stdout",
     "output_type": "stream",
     "text": [
      "Model: \"dbn\"\n",
      "_________________________________________________________________\n",
      " Layer (type)                Output Shape              Param #   \n",
      "=================================================================\n",
      " rbm (RBM)                   multiple                  203       \n",
      "                                                                 \n",
      "=================================================================\n",
      "Total params: 203 (812.00 Byte)\n",
      "Trainable params: 203 (812.00 Byte)\n",
      "Non-trainable params: 0 (0.00 Byte)\n",
      "_________________________________________________________________\n"
     ]
    }
   ],
   "source": [
    "dbn.summary()"
   ]
  }
 ],
 "metadata": {
  "kernelspec": {
   "display_name": "Python 3",
   "language": "python",
   "name": "python3"
  },
  "language_info": {
   "codemirror_mode": {
    "name": "ipython",
    "version": 3
   },
   "file_extension": ".py",
   "mimetype": "text/x-python",
   "name": "python",
   "nbconvert_exporter": "python",
   "pygments_lexer": "ipython3",
   "version": "3.10.12"
  }
 },
 "nbformat": 4,
 "nbformat_minor": 2
}
