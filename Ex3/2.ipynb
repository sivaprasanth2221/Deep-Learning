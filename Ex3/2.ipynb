{
  "cells": [
    {
      "cell_type": "code",
      "execution_count": 1,
      "metadata": {
        "colab": {
          "base_uri": "https://localhost:8080/"
        },
        "id": "kVgux3XV249p",
        "outputId": "76414eb2-e0fc-426a-d380-fd4e909736d8"
      },
      "outputs": [],
      "source": [
        "import tensorflow as tf\n",
        "from tensorflow.keras.models import Sequential\n",
        "from tensorflow.keras.layers import Flatten, Dense,Layer"
      ]
    },
    {
      "cell_type": "code",
      "execution_count": 2,
      "metadata": {},
      "outputs": [],
      "source": [
        "class RBFLayer(Layer):\n",
        "    def __init__(self, units, gamma, **kwargs):\n",
        "        super(RBFLayer, self).__init__(**kwargs)\n",
        "        self.units = units\n",
        "        self.gamma = tf.Variable(float(gamma), dtype=tf.float32)\n",
        "\n",
        "    def build(self, input_shape):\n",
        "        self.mu = self.add_weight(name='mu',\n",
        "                                  shape=(input_shape[1], self.units),\n",
        "                                  initializer='uniform',\n",
        "                                  trainable=True)\n",
        "        super(RBFLayer, self).build(input_shape)  \n",
        "\n",
        "    def call(self, inputs):\n",
        "        diff = tf.expand_dims(inputs, -1) - self.mu\n",
        "        l2 = tf.reduce_sum(tf.square(diff), axis=1)\n",
        "        res = tf.math.reduce_std(inputs)\n",
        "        res = tf.exp((-1 * self.gamma * l2)/(2*(res**2)))\n",
        "        return res\n",
        "\n",
        "    def compute_output_shape(self, input_shape):\n",
        "        return (input_shape[0], self.units)"
      ]
    },
    {
      "cell_type": "code",
      "execution_count": 3,
      "metadata": {},
      "outputs": [
        {
          "name": "stdout",
          "output_type": "stream",
          "text": [
            "Downloading data from https://storage.googleapis.com/tensorflow/tf-keras-datasets/mnist.npz\n",
            "11490434/11490434 [==============================] - 10s 1us/step\n"
          ]
        }
      ],
      "source": [
        "mnist = tf.keras.datasets.mnist\n",
        "\n",
        "(x_train, y_train),(x_test, y_test) = mnist.load_data()\n",
        "x_train, x_test = x_train / 255.0, x_test / 255.0"
      ]
    },
    {
      "cell_type": "code",
      "execution_count": 4,
      "metadata": {},
      "outputs": [
        {
          "name": "stdout",
          "output_type": "stream",
          "text": [
            "Epoch 1/10\n",
            "938/938 [==============================] - 8s 9ms/step - loss: 2.3016 - accuracy: 0.1121\n",
            "Epoch 2/10\n",
            "938/938 [==============================] - 9s 9ms/step - loss: 2.3013 - accuracy: 0.1124\n",
            "Epoch 3/10\n",
            "938/938 [==============================] - 9s 10ms/step - loss: 2.3013 - accuracy: 0.1124\n",
            "Epoch 4/10\n",
            "938/938 [==============================] - 10s 10ms/step - loss: 2.3013 - accuracy: 0.1124\n",
            "Epoch 5/10\n",
            "938/938 [==============================] - 12s 12ms/step - loss: 2.3013 - accuracy: 0.1124\n",
            "Epoch 6/10\n",
            "938/938 [==============================] - 9s 10ms/step - loss: 2.3013 - accuracy: 0.1124\n",
            "Epoch 7/10\n",
            "938/938 [==============================] - 9s 9ms/step - loss: 2.3013 - accuracy: 0.1124\n",
            "Epoch 8/10\n",
            "938/938 [==============================] - 9s 10ms/step - loss: 2.3013 - accuracy: 0.1124\n",
            "Epoch 9/10\n",
            "938/938 [==============================] - 9s 9ms/step - loss: 2.3013 - accuracy: 0.1124\n",
            "Epoch 10/10\n",
            "938/938 [==============================] - 9s 9ms/step - loss: 2.3013 - accuracy: 0.1124\n"
          ]
        },
        {
          "data": {
            "text/plain": [
              "<keras.src.callbacks.History at 0x1766f4940>"
            ]
          },
          "execution_count": 4,
          "metadata": {},
          "output_type": "execute_result"
        }
      ],
      "source": [
        "model = Sequential()\n",
        "model.add(Flatten(input_shape=(28, 28))) \n",
        "model.add(RBFLayer(100, gamma=0.5))  \n",
        "model.add(Dense(10, activation='softmax')) \n",
        "\n",
        "model.compile(loss='sparse_categorical_crossentropy', optimizer='adam', metrics=['accuracy'])\n",
        "\n",
        "model.fit(x_train, y_train, epochs=10, batch_size=64)"
      ]
    },
    {
      "cell_type": "code",
      "execution_count": 6,
      "metadata": {},
      "outputs": [
        {
          "name": "stdout",
          "output_type": "stream",
          "text": [
            "313/313 [==============================] - 1s 2ms/step - loss: 2.3010 - accuracy: 0.1135\n",
            "Test accuracy: 11.349999904632568\n"
          ]
        }
      ],
      "source": [
        "test_loss, test_acc = model.evaluate(x_test, y_test)\n",
        "print('Test accuracy:', test_acc*100)"
      ]
    }
  ],
  "metadata": {
    "colab": {
      "provenance": []
    },
    "kernelspec": {
      "display_name": "Python 3",
      "name": "python3"
    },
    "language_info": {
      "codemirror_mode": {
        "name": "ipython",
        "version": 3
      },
      "file_extension": ".py",
      "mimetype": "text/x-python",
      "name": "python",
      "nbconvert_exporter": "python",
      "pygments_lexer": "ipython3",
      "version": "3.10.12"
    }
  },
  "nbformat": 4,
  "nbformat_minor": 0
}
