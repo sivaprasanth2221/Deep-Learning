{
 "cells": [
  {
   "cell_type": "code",
   "execution_count": 1,
   "metadata": {},
   "outputs": [],
   "source": [
    "import tensorflow as tf\n",
    "from tensorflow.keras.models import Sequential\n",
    "from tensorflow.keras.layers import Conv3D, MaxPooling3D, Flatten, Dense, Dropout\n",
    "import matplotlib.pyplot as plt\n",
    "import os\n",
    "import cv2\n",
    "import numpy as np\n",
    "import pandas as pd"
   ]
  },
  {
   "cell_type": "code",
   "execution_count": 2,
   "metadata": {},
   "outputs": [],
   "source": [
    "# Define the dimensions of your video frames\n",
    "height = 64\n",
    "width = 64\n",
    "desired_frames = 30  \n",
    "channels = 3  "
   ]
  },
  {
   "cell_type": "code",
   "execution_count": 3,
   "metadata": {},
   "outputs": [],
   "source": [
    "train_dir = 'UCF101/train'\n",
    "test_dir = 'UCF101/test'"
   ]
  },
  {
   "cell_type": "code",
   "execution_count": 4,
   "metadata": {},
   "outputs": [],
   "source": [
    "train_csv_path = 'UCF101/train.csv'\n",
    "train_df = pd.read_csv(train_csv_path)"
   ]
  },
  {
   "cell_type": "code",
   "execution_count": 5,
   "metadata": {},
   "outputs": [],
   "source": [
    "test_csv_path = 'UCF101/test.csv'\n",
    "test_df = pd.read_csv(test_csv_path)"
   ]
  },
  {
   "cell_type": "code",
   "execution_count": 6,
   "metadata": {},
   "outputs": [],
   "source": [
    "train_videos = []\n",
    "train_labels = []\n",
    "test_videos = []\n",
    "test_labels = []"
   ]
  },
  {
   "cell_type": "code",
   "execution_count": 7,
   "metadata": {},
   "outputs": [],
   "source": [
    "def preprocess_video(video_path):\n",
    "    cap = cv2.VideoCapture(video_path)\n",
    "    frames = []\n",
    "    while True:\n",
    "        ret, frame = cap.read()\n",
    "        if not ret:\n",
    "            break\n",
    "        frame = cv2.resize(frame, (height, width))\n",
    "        frame = frame / 255.0\n",
    "        frames.append(frame)\n",
    "    cap.release()\n",
    "    if len(frames) < desired_frames:\n",
    "        frames.extend([np.zeros((height, width, channels)) for _ in range(desired_frames - len(frames))])\n",
    "    elif len(frames) > desired_frames:\n",
    "        frames = frames[:desired_frames]\n",
    "    return frames"
   ]
  },
  {
   "cell_type": "code",
   "execution_count": 8,
   "metadata": {},
   "outputs": [],
   "source": [
    "label_map = {}\n",
    "next_label = 0\n",
    "for index, row in train_df.iterrows():\n",
    "    video_path = os.path.join(train_dir, row['video_name'])\n",
    "    frames = preprocess_video(video_path)\n",
    "    train_videos.append(frames)\n",
    "    label = row['tag']\n",
    "    if label not in label_map:\n",
    "        label_map[label] = next_label\n",
    "        next_label += 1\n",
    "    train_labels.append(label_map[label])"
   ]
  },
  {
   "cell_type": "code",
   "execution_count": 9,
   "metadata": {},
   "outputs": [],
   "source": [
    "for index, row in test_df.iterrows():\n",
    "    video_path = os.path.join(test_dir, row['video_name'])\n",
    "    frames = preprocess_video(video_path)\n",
    "    test_videos.append(frames)\n",
    "    label = row['tag']\n",
    "    if label not in label_map:\n",
    "        label_map[label] = next_label\n",
    "        next_label += 1\n",
    "    test_labels.append(label_map[label])"
   ]
  },
  {
   "cell_type": "code",
   "execution_count": 10,
   "metadata": {},
   "outputs": [],
   "source": [
    "train_videos = np.array(train_videos)\n",
    "train_labels = np.array(train_labels)\n",
    "test_videos = np.array(test_videos)\n",
    "test_labels = np.array(test_labels)"
   ]
  },
  {
   "cell_type": "code",
   "execution_count": 11,
   "metadata": {},
   "outputs": [],
   "source": [
    "model = Sequential([\n",
    "    Conv3D(32, kernel_size=(3, 3, 3), activation='relu', input_shape=(desired_frames, height, width, channels)),\n",
    "    MaxPooling3D(pool_size=(2, 2, 2)),\n",
    "    Conv3D(64, kernel_size=(3, 3, 3), activation='relu'),\n",
    "    MaxPooling3D(pool_size=(2, 2, 2)),\n",
    "    Conv3D(128, kernel_size=(3, 3, 3), activation='relu'),\n",
    "    MaxPooling3D(pool_size=(2, 2, 2)),\n",
    "    Flatten(),\n",
    "    Dense(256, activation='relu'),\n",
    "    Dropout(0.5),\n",
    "    Dense(5, activation='softmax')\n",
    "])"
   ]
  },
  {
   "cell_type": "code",
   "execution_count": 12,
   "metadata": {},
   "outputs": [],
   "source": [
    "model.compile(optimizer='adam', loss='sparse_categorical_crossentropy', metrics=['accuracy'])"
   ]
  },
  {
   "cell_type": "code",
   "execution_count": 13,
   "metadata": {},
   "outputs": [
    {
     "name": "stdout",
     "output_type": "stream",
     "text": [
      "Epoch 1/10\n",
      "19/19 [==============================] - 159s 8s/step - loss: 1.4866 - accuracy: 0.3350 - val_loss: 1.1062 - val_accuracy: 0.5357\n",
      "Epoch 2/10\n",
      "19/19 [==============================] - 158s 8s/step - loss: 0.9272 - accuracy: 0.6431 - val_loss: 1.0621 - val_accuracy: 0.5223\n",
      "Epoch 3/10\n",
      "19/19 [==============================] - 151s 8s/step - loss: 0.5709 - accuracy: 0.7997 - val_loss: 0.9119 - val_accuracy: 0.6830\n",
      "Epoch 4/10\n",
      "19/19 [==============================] - 154s 8s/step - loss: 0.3889 - accuracy: 0.8552 - val_loss: 1.1471 - val_accuracy: 0.6741\n",
      "Epoch 5/10\n",
      "19/19 [==============================] - 151s 8s/step - loss: 0.1555 - accuracy: 0.9343 - val_loss: 1.2959 - val_accuracy: 0.5848\n",
      "Epoch 6/10\n",
      "19/19 [==============================] - 155s 8s/step - loss: 0.1045 - accuracy: 0.9596 - val_loss: 1.3222 - val_accuracy: 0.6250\n",
      "Epoch 7/10\n",
      "19/19 [==============================] - 154s 8s/step - loss: 0.0917 - accuracy: 0.9815 - val_loss: 1.1601 - val_accuracy: 0.6964\n",
      "Epoch 8/10\n",
      "19/19 [==============================] - 156s 8s/step - loss: 0.0370 - accuracy: 0.9865 - val_loss: 1.1330 - val_accuracy: 0.7188\n",
      "Epoch 9/10\n",
      "19/19 [==============================] - 154s 8s/step - loss: 0.0332 - accuracy: 0.9899 - val_loss: 1.9378 - val_accuracy: 0.6161\n",
      "Epoch 10/10\n",
      "19/19 [==============================] - 154s 8s/step - loss: 0.0278 - accuracy: 0.9933 - val_loss: 1.8231 - val_accuracy: 0.6741\n"
     ]
    }
   ],
   "source": [
    "history = model.fit(train_videos, train_labels, epochs=10, validation_data=(test_videos, test_labels))"
   ]
  },
  {
   "cell_type": "code",
   "execution_count": 14,
   "metadata": {},
   "outputs": [
    {
     "name": "stdout",
     "output_type": "stream",
     "text": [
      "7/7 [==============================] - 8s 1s/step - loss: 1.8231 - accuracy: 0.6741\n",
      "Test accuracy: 0.6741071343421936\n"
     ]
    }
   ],
   "source": [
    "test_loss, test_acc = model.evaluate(test_videos, test_labels)\n",
    "print(f'Test accuracy: {test_acc}')"
   ]
  },
  {
   "cell_type": "code",
   "execution_count": 15,
   "metadata": {},
   "outputs": [
    {
     "name": "stdout",
     "output_type": "stream",
     "text": [
      "7/7 [==============================] - 8s 1s/step\n"
     ]
    }
   ],
   "source": [
    "predictions = model.predict(test_videos)"
   ]
  },
  {
   "cell_type": "code",
   "execution_count": 16,
   "metadata": {},
   "outputs": [
    {
     "data": {
      "image/png": "[encoded data removed]",
      "text/plain": [
       "<Figure size 640x480 with 1 Axes>"
      ]
     },
     "metadata": {},
     "output_type": "display_data"
    }
   ],
   "source": [
    "plt.plot(history.history['loss'], label='Training Loss')\n",
    "plt.plot(history.history['val_loss'], label='Testing Loss')\n",
    "plt.xlabel('Epoch')\n",
    "plt.ylabel('Loss')\n",
    "plt.legend()\n",
    "plt.title('Training and Testing Loss')\n",
    "plt.show()"
   ]
  }
 ],
 "metadata": {
  "kernelspec": {
   "display_name": "Python 3",
   "language": "python",
   "name": "python3"
  },
  "language_info": {
   "codemirror_mode": {
    "name": "ipython",
    "version": 3
   },
   "file_extension": ".py",
   "mimetype": "text/x-python",
   "name": "python",
   "nbconvert_exporter": "python",
   "pygments_lexer": "ipython3",
   "version": "3.10.12"
  }
 },
 "nbformat": 4,
 "nbformat_minor": 2
}
